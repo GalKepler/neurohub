{
 "cells": [
  {
   "cell_type": "code",
   "execution_count": 1,
   "metadata": {},
   "outputs": [],
   "source": [
    "from questionnaire_reader import QuestionnaireReader\n",
    "import pandas as pd\n",
    "# q = QuestionnaireReader(path=\"/home/groot/Downloads/questionnaire_raw.xlsx\")"
   ]
  },
  {
   "cell_type": "code",
   "execution_count": 2,
   "metadata": {},
   "outputs": [],
   "source": [
    "# q.data.to_csv(\"/home/groot/Projects/papers/covariates-in-neuroimaging/data/questionnaire.csv\")"
   ]
  },
  {
   "cell_type": "code",
   "execution_count": 3,
   "metadata": {},
   "outputs": [],
   "source": [
    "import gspread as gs\n",
    "import pandas as pd"
   ]
  },
  {
   "cell_type": "code",
   "execution_count": 4,
   "metadata": {},
   "outputs": [],
   "source": [
    "gc = gs.service_account(filename='/home/groot/Downloads/neurohub-374909-2b563177ea22.json')\n",
    "sh = gc.open_by_url('https://docs.google.com/spreadsheets/d/18ITYqHSUnaabxq9vxmrW6W5uuSu7XGJ48keYpS-jMVc/edit?usp=sharing')\n"
   ]
  },
  {
   "cell_type": "code",
   "execution_count": 5,
   "metadata": {},
   "outputs": [],
   "source": [
    "ws = sh.worksheet('Combined_CRF_Gal')\n"
   ]
  },
  {
   "cell_type": "code",
   "execution_count": 6,
   "metadata": {},
   "outputs": [],
   "source": [
    "df = pd.DataFrame(ws.get_all_records())\n"
   ]
  },
  {
   "cell_type": "code",
   "execution_count": 12,
   "metadata": {},
   "outputs": [
    {
     "data": {
      "text/plain": "array(['learner', 'control', 'sheba', 'project', '', 'Python', 'BJJ',\n       'Climbing', 'Music'], dtype=object)"
     },
     "execution_count": 12,
     "metadata": {},
     "output_type": "execute_result"
    }
   ],
   "source": [
    "df\n"
   ]
  }
 ],
 "metadata": {
  "kernelspec": {
   "display_name": "venv",
   "language": "python",
   "name": "python3"
  },
  "language_info": {
   "codemirror_mode": {
    "name": "ipython",
    "version": 3
   },
   "file_extension": ".py",
   "mimetype": "text/x-python",
   "name": "python",
   "nbconvert_exporter": "python",
   "pygments_lexer": "ipython3",
   "version": "3.10.2"
  },
  "orig_nbformat": 4,
  "vscode": {
   "interpreter": {
    "hash": "086919b846c8584e0c9304b25b237d101ef92eaf0a3ccfae521016fd1af515ba"
   }
  }
 },
 "nbformat": 4,
 "nbformat_minor": 2
}
